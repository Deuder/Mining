{
 "cells": [
  {
   "cell_type": "code",
   "execution_count": 148,
   "id": "c67e281f-7d00-4890-b719-8283894c3fd0",
   "metadata": {},
   "outputs": [],
   "source": [
    "#find files\n",
    "import pandas as pd\n",
    "import glob\n",
    "\n",
    "de = True\n",
    "eng = False\n",
    "\n",
    "files = glob.glob(r\"C:\\Users\\thegy\\Documents\\Studium\\HS FL 4\\Mining\\Jobs DE\\*.txt\")"
   ]
  },
  {
   "cell_type": "code",
   "execution_count": 149,
   "id": "6c244475-6b73-4f07-b91c-30049e8e7b83",
   "metadata": {},
   "outputs": [
    {
     "name": "stdout",
     "output_type": "stream",
     "text": [
      "59\n"
     ]
    }
   ],
   "source": [
    "startdfs = [0 for x in range(len(files))]\n",
    "\n",
    "#import txt files as dataframes\n",
    "for i in range(len(files)):\n",
    "    df= pd.read_csv(files[i], delimiter = \"\\t\", header = None)\n",
    "    startdfs[i]=df\n",
    "print(len(startdfs))\n",
    "#create a more sorted df\n",
    "index = []\n",
    "lang_dict = {}\n",
    "job_dict = {}\n",
    "company_dict = {}\n",
    "descr_dict = {}\n",
    "\n",
    "for j in range(len(startdfs)):\n",
    "    \n",
    "    df = startdfs[j]\n",
    "    index += [j]\n",
    "    \n",
    "    if de:\n",
    "        lang =\"de\"\n",
    "    elif en:\n",
    "        lang= \"en\"\n",
    "    lang_dict[j]= lang;\n",
    "    \n",
    "    job = df.iloc[0,0]\n",
    "    job_dict[j]= job\n",
    "    \n",
    "    company = df.iloc[1,0]\n",
    "    company_dict[j]= company;\n",
    "    \n",
    "    descr = df.iloc[2,0]\n",
    "    for i in range(3,len(df.index)):\n",
    "        descr = descr + \" \"+ df.iloc[i,0].strip(\"◾\")\n",
    "    descr_dict[j] = descr\n",
    "    \n",
    "lang_series = pd.Series(lang_dict)\n",
    "job_series = pd.Series(job_dict)\n",
    "company_series = pd.Series(company_dict)\n",
    "descr_series = pd.Series(descr_dict)\n",
    "\n",
    "df = pd.DataFrame({'job':job_series, 'company':company_series, 'description':descr_series, 'language':lang_series,})"
   ]
  },
  {
   "cell_type": "code",
   "execution_count": 158,
   "id": "fec9c82c-cbcc-45f5-9e39-9e0fb21ebb5f",
   "metadata": {},
   "outputs": [],
   "source": [
    "#get all descriptions\n",
    "descrstr = \"\"\n",
    "for i in range(len(df)):\n",
    "    descrstr =descrstr +\" \"+ df.iloc[i,2]\n",
    "\n",
    "#let the spacy magic begin ^^\n",
    "import spacy\n",
    "from spacy.tokens import Doc\n",
    "from spacy.lang.de import German\n",
    "\n",
    "nlp = spacy.load(\"de_core_news_sm\")\n",
    "doc = nlp(descrstr)\n",
    "\n",
    "#Matching\n",
    "from spacy.matcher import Matcher\n",
    "\n",
    "#get double proper nouns\n",
    "matcher = Matcher(nlp.vocab)\n",
    "pattern = [{\"POS\": \"PROPN\"}, {\"POS\": \"PROPN\"}]\n",
    "#pattern0 = [{\"POS\": \"PROPN\"}]\n",
    "#matcher.add(\"pat0\", [pattern0])\n",
    "matcher.add(\"pat\", [pattern])\n",
    "matches = matcher(doc)\n",
    "\n",
    "results =  [doc[start:end].text for match_id, start, end in matches]\n",
    "#put double proper nouns in dict and count them\n",
    "pnouns = {}\n",
    "for result in results:\n",
    "        if result in pnouns:\n",
    "            pnouns[result] = pnouns[result]+1\n",
    "        else:\n",
    "            pnouns[result] = 1"
   ]
  },
  {
   "cell_type": "code",
   "execution_count": 159,
   "id": "e82322bf-3c33-40e9-a67a-365049521895",
   "metadata": {},
   "outputs": [],
   "source": [
    "#get single proper nouns (matcher seems to not have the functionallity to exclude the ones already counted in the double ones) \n",
    "for i in range(len(doc)):\n",
    "    token = doc[i]\n",
    "    addtoken = False\n",
    "    #first Token has only a right neighbor\n",
    "    if i == 0:\n",
    "        rNbor = token.nbor(1)\n",
    "        if token.pos_ == 'PROPN' and rNbor.pos_ != 'PROPN' and rNbor.pos_ != 'NOUN':\n",
    "            addtoken = True\n",
    "    #last Token has only a left neighbor\n",
    "    elif i == len(doc) -1:\n",
    "        lNbor = token.nbor(-1)\n",
    "        if lNbor.pos_ != 'PROPN'and lNbor.pos_ != 'NOUN' and token.pos_ == 'PROPN':\n",
    "            addtoken = True\n",
    "    #default Tokens have a right and a left neighbor\n",
    "    else:\n",
    "        rNbor = token.nbor(1)\n",
    "        lNbor = token.nbor(-1)\n",
    "        if lNbor.pos_ != 'PROPN' and lNbor.pos_ != 'NOUN' and token.pos_ == 'PROPN' and rNbor.pos_ != 'PROPN' and rNbor.pos_ != 'NOUN':\n",
    "            addtoken = True\n",
    "            \n",
    "    if addtoken:\n",
    "        if token.text in pnouns:\n",
    "            pnouns[token.text] = pnouns[token.text]+1\n",
    "        else:\n",
    "            pnouns[token.text] = 1  \n",
    "        addtoken = False\n",
    "            "
   ]
  },
  {
   "cell_type": "code",
   "execution_count": 169,
   "id": "ffb52ab7-59c1-4771-9647-377ff6727ee1",
   "metadata": {},
   "outputs": [
    {
     "name": "stdout",
     "output_type": "stream",
     "text": [
      "                          count\n",
      "Data Science                 30\n",
      "Machine Learning             26\n",
      "Data Scientist               21\n",
      "Python                       17\n",
      "SQL                          15\n",
      "...                         ...\n",
      "SPSS Modeller                 1\n",
      "Requirements Engineering      1\n",
      "Key Accounts                  1\n",
      "REWE Group                    1\n",
      "Carrypicker                   1\n",
      "\n",
      "[554 rows x 1 columns]\n"
     ]
    }
   ],
   "source": [
    "series = pd.Series(pnouns)\n",
    "series = series.sort_values(ascending=False)\n",
    "allnouns_df = pd.DataFrame({'count':series})\n",
    "print(allnouns_df)\n",
    "df2 = allnouns_df[:30] "
   ]
  },
  {
   "cell_type": "code",
   "execution_count": 170,
   "id": "c001f092-bdbb-4484-9ac6-758a2a7965b7",
   "metadata": {},
   "outputs": [
    {
     "data": {
      "text/plain": [
       "<AxesSubplot:xlabel='Begriff', ylabel='Anzahl der Nennungen'>"
      ]
     },
     "execution_count": 170,
     "metadata": {},
     "output_type": "execute_result"
    },
    {
     "data": {
      "image/png": "[encoded data removed]",
      "text/plain": [
       "<Figure size 432x288 with 1 Axes>"
      ]
     },
     "metadata": {
      "needs_background": "light"
     },
     "output_type": "display_data"
    }
   ],
   "source": [
    "#Plot \n",
    "import matplotlib.pyplot as plt\n",
    "plt.figure()\n",
    "plt.ylabel('Anzahl der Nennungen')\n",
    "plt.xlabel('Begriff')\n",
    "df2['count'].plot(kind='bar')"
   ]
  },
  {
   "cell_type": "code",
   "execution_count": null,
   "id": "d4f84893-3434-4de2-a816-7d79282d6d90",
   "metadata": {},
   "outputs": [],
   "source": []
  },
  {
   "cell_type": "code",
   "execution_count": null,
   "id": "90f2a769-f5da-44d4-8531-810b7d767686",
   "metadata": {},
   "outputs": [],
   "source": []
  }
 ],
 "metadata": {
  "kernelspec": {
   "display_name": "Python 3",
   "language": "python",
   "name": "python3"
  },
  "language_info": {
   "codemirror_mode": {
    "name": "ipython",
    "version": 3
   },
   "file_extension": ".py",
   "mimetype": "text/x-python",
   "name": "python",
   "nbconvert_exporter": "python",
   "pygments_lexer": "ipython3",
   "version": "3.9.2"
  }
 },
 "nbformat": 4,
 "nbformat_minor": 5
}
