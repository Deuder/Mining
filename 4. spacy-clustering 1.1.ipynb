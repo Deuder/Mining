{
 "cells": [
  {
   "cell_type": "code",
   "execution_count": 51,
   "id": "b43314cb-2967-4559-8cbf-a5d9602f4d62",
   "metadata": {},
   "outputs": [],
   "source": [
    "def getjobdescriptionsaslist(df):\n",
    "    \"\"\"\n",
    "    This Method puts all jobdescriptions of a df into one list of strings\n",
    "    @param df: The Job dataframe from which to take the descriptions from\n",
    "    @return: list of strings filled with all job descriptions doc by doc\n",
    "    \"\"\"\n",
    "    #get all descriptions\n",
    "    descrstr = []\n",
    "    for i in range(len(df)):\n",
    "        newstr = removespecials(df.iloc[i,2].lower())\n",
    "        descrstr += [newstr]\n",
    "    return descrstr"
   ]
  },
  {
   "cell_type": "code",
   "execution_count": 52,
   "id": "41d9bea0-8f6b-4292-90c3-68f8717e4ef6",
   "metadata": {},
   "outputs": [],
   "source": [
    "def getjobdescriptions(df):\n",
    "    \"\"\"\n",
    "    This Method puts all jobdescriptions of a df into one string\n",
    "    @param df: The Job dataframe from which to take the descriptions from\n",
    "    @return: string filled with all job descriptions at once\n",
    "    \"\"\"\n",
    "    #get all descriptions\n",
    "    descrstr = \"\"\n",
    "    for i in range(len(df)):\n",
    "        descrstr =descrstr +\" \"+ df.iloc[i,2]\n",
    "    return (removespecials(descrstr))"
   ]
  },
  {
   "cell_type": "code",
   "execution_count": 53,
   "id": "62b09dea-b393-4272-b8bd-c727801f6ea9",
   "metadata": {},
   "outputs": [],
   "source": [
    "def removespecials(str):\n",
    "    \"\"\"\n",
    "    This Method removes specialcaracters\n",
    "    @param str: the string from whom those specialcharacters shall be removed\n",
    "    @return: string without those specialcaracters\n",
    "    \"\"\"\n",
    "    return str.replace(\"◾\", \"\").replace(\"(\", \"\").replace(\")\", \"\").replace(\"[\", \"\").replace(\"]\", \"\").replace(\"•\", \"\")"
   ]
  },
  {
   "cell_type": "code",
   "execution_count": 54,
   "id": "90ecc4d2-1c8f-4c75-8243-f39ebfc56fa4",
   "metadata": {},
   "outputs": [],
   "source": [
    "import pandas as pd\n",
    "de = r\"C:\\Users\\thegy\\Documents\\Studium\\HS FL 4\\Mining\\DFs\\nouns_de.csv\"\n",
    "en = r\"C:\\Users\\thegy\\Documents\\Studium\\HS FL 4\\Mining\\DFs\\nouns_en.csv\"\n",
    "jobsde = r\"C:\\Users\\thegy\\Documents\\Studium\\HS FL 4\\Mining\\DFs\\jobdfde.csv\"\n",
    "jobsen = r\"C:\\Users\\thegy\\Documents\\Studium\\HS FL 4\\Mining\\DFs\\jobdfen.csv\"\n",
    "\n",
    "de = pd.read_csv(de, delimiter = \";\")\n",
    "en = pd.read_csv(en, delimiter = \";\")\n",
    "jobsde = pd.read_csv(jobsde, delimiter = \";\")\n",
    "jobsen = pd.read_csv(jobsen, delimiter = \";\")\n",
    "\n",
    "#getwhitelist for skill-strings\n",
    "whitelistdf = r\"C:\\Users\\thegy\\Documents\\Studium\\HS FL 4\\Mining\\DFs\\whitelist.csv\"\n",
    "whitelistdf = pd.read_csv(whitelistdf, delimiter = \";\")\n",
    "whitelist = []\n",
    "for i in range(len(whitelistdf)):\n",
    "    whitewords = whitelistdf.iloc[i,0].split(\", \")\n",
    "    for word in whitewords:\n",
    "        whitelist += [word]"
   ]
  },
  {
   "cell_type": "code",
   "execution_count": 55,
   "id": "5b4da500-23a8-48ea-aa47-0a4c2d077734",
   "metadata": {},
   "outputs": [],
   "source": [
    "df=jobsde\n",
    "\n",
    "#let the spacy magic begin ^^\n",
    "import spacy\n",
    "from spacy.tokens import Doc\n",
    "from spacy.lang.de import German\n",
    "from spacy.lang.en import English\n",
    "    \n",
    "nlp = spacy.load(\"de_core_news_lg\")"
   ]
  },
  {
   "cell_type": "code",
   "execution_count": 57,
   "id": "08accf81-e6f3-47b6-8a3e-137be35c74e7",
   "metadata": {},
   "outputs": [
    {
     "name": "stdout",
     "output_type": "stream",
     "text": [
      "(138, 300)\n"
     ]
    }
   ],
   "source": [
    "import numpy as np\n",
    "\n",
    "texts_de = whitelist\n",
    "nlp_de = nlp\n",
    "\n",
    "vector_array = np.empty((len(texts_de), nlp_de.vocab.vectors_length))\n",
    "print(vector_array.shape)\n",
    "for i, text in enumerate(texts_de):\n",
    "    doc = nlp_de(text)\n",
    "    vector_array[i] = doc.vector\n",
    "    \n",
    "#Kosinusähnlichkeit\n",
    "from sklearn.metrics.pairwise import cosine_similarity\n",
    "sim = cosine_similarity(vector_array)"
   ]
  },
  {
   "cell_type": "code",
   "execution_count": 58,
   "id": "268f362b-0ea9-4fb8-87df-b5e2a4e96509",
   "metadata": {},
   "outputs": [
    {
     "name": "stdout",
     "output_type": "stream",
     "text": [
      "['TensorFlow', 'Tensor Flow', 'Tensorflow', 'PyTorch', 'Deep Learning', 'Arificial Intellligence', 'AI', 'KI', 'Künstliche Intelligenz', 'NLP', 'Natural Language Processing', 'Language Processing', 'Natural Language', 'MySQL', 'SSAS', 'SQL Server Analysis Services', 'NoSQL', 'SQL Server', 'Microsoft SSIS', 'SSIS', 'SQL Server Integration Services', 'Apache Kafka', 'Kafka', 'Airflow', 'Apache Airflow', 'Spark', 'Apache Spark', 'Hadoop', 'Google Analytics', 'Power BI', 'PowerBI', 'PowerBi', 'SPSS', 'Superior Performing Software System', 'Statistical Package Social Science', 'Spark', 'MapReduce', 'Qilk', 'Learning', 'GCP', 'Google Cloud Plattform', 'AWS', 'AWS Cloud', 'Amazone Webservices Cloud', 'Amazone Webservices', 'Amazone Webservice', 'Amazon Webservice', 'Amazon Webservices', 'Google Cloud', 'Azure', 'Snowflake', 'SAO BW', 'SAP BI', 'SAP Business', 'SAP HANA', 'HANA', 'SAP Analytics', 'SAP BO', 'SQL', 'Oracle', 'Data Mining', 'Operations Research', 'Operational Research', 'OR', 'Data Governance', 'Datenmanagement', 'Use Cases', 'Scrum', 'Risk Management', 'Risiko Management', 'Risikomanagement', 'Pandas', 'PySpark', 'Jupyter', 'Jupyter Notebook', 'PyTorch', 'Numpy', 'Datawarehouse', 'Data Warehouse', 'Data Warehousing', 'DWH', 'Warehouse', 'BigQuery', 'Data Lake', 'Data Lakes', 'Hive', 'Apache ', 'Analyse', 'Cloud', 'SAP', 'Datenbanken', 'BWL', 'Betriebswirtschaftslehre', 'Business Intelligence', 'BI', 'VWL', 'Volkswirtschaftslehre', 'Finance', 'Finanzen', 'Präsentation', 'Präsentationen', 'PowerPoint', 'Power Point', 'Marketing', 'CRM', 'Customer Relashionship Management', 'Customer Relashionship', 'Kundenpflege', 'Projektmanagement', 'Project Management', 'Projekt Management', 'Python', 'Pyton', 'Java', 'Excel', 'Microsoft Excel', 'MS Excel', 'VBA', 'C++', 'R', 'Ruby', 'R.', 'Matlab', 'MATLAB', 'XML', 'ML', 'Meta Language', 'C', 'Java Scipt', 'Statistics', 'Statistik', 'Mathematics', 'Mathematik', 'Math', 'Maths', 'Physics', 'Physik', 'C#']\n"
     ]
    }
   ],
   "source": [
    "print(whitelist)"
   ]
  },
  {
   "cell_type": "code",
   "execution_count": 70,
   "id": "d2569112-b2a1-4896-9bcd-d7c4f0d801ab",
   "metadata": {},
   "outputs": [
    {
     "data": {
      "text/plain": [
       "0.6663382779356933"
      ]
     },
     "execution_count": 70,
     "metadata": {},
     "output_type": "execute_result"
    }
   ],
   "source": [
    "sim[0,1]"
   ]
  },
  {
   "cell_type": "code",
   "execution_count": 66,
   "id": "6480eb37-c944-4e38-a35d-2348b3050647",
   "metadata": {},
   "outputs": [
    {
     "data": {
      "text/plain": [
       "0.4736141708128442"
      ]
     },
     "execution_count": 66,
     "metadata": {},
     "output_type": "execute_result"
    }
   ],
   "source": [
    "sim[whitelist.index('R'),whitelist.index('C')]"
   ]
  },
  {
   "cell_type": "code",
   "execution_count": 69,
   "id": "a496874c-92d8-429e-9891-e9e3eee9a824",
   "metadata": {},
   "outputs": [
    {
     "data": {
      "text/plain": [
       "0.0"
      ]
     },
     "execution_count": 69,
     "metadata": {},
     "output_type": "execute_result"
    }
   ],
   "source": []
  },
  {
   "cell_type": "code",
   "execution_count": null,
   "id": "b6b358a7-a3b4-4235-9a31-c0c4dedc1de8",
   "metadata": {},
   "outputs": [],
   "source": []
  }
 ],
 "metadata": {
  "kernelspec": {
   "display_name": "Python 3",
   "language": "python",
   "name": "python3"
  },
  "language_info": {
   "codemirror_mode": {
    "name": "ipython",
    "version": 3
   },
   "file_extension": ".py",
   "mimetype": "text/x-python",
   "name": "python",
   "nbconvert_exporter": "python",
   "pygments_lexer": "ipython3",
   "version": "3.9.2"
  }
 },
 "nbformat": 4,
 "nbformat_minor": 5
}
